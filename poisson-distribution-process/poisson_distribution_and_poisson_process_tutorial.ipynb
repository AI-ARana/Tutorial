{
  "nbformat": 4,
  "nbformat_minor": 0,
  "metadata": {
    "colab": {
      "name": "poisson-distribution-and-poisson-process-tutorial.ipynb",
      "provenance": [],
      "include_colab_link": true
    },
    "kernelspec": {
      "name": "python3",
      "display_name": "Python 3"
    }
  },
  "cells": [
    {
      "cell_type": "markdown",
      "metadata": {
        "id": "view-in-github",
        "colab_type": "text"
      },
      "source": [
        "<a href=\"https://colab.research.google.com/github/towardsai/tutorials/blob/master/poisson-distribution-process/poisson_distribution_and_poisson_process_tutorial.ipynb\" target=\"_parent\"><img src=\"https://colab.research.google.com/assets/colab-badge.svg\" alt=\"Open In Colab\"/></a>"
      ]
    },
    {
      "cell_type": "markdown",
      "metadata": {
        "id": "-ojZQVTJDrUw"
      },
      "source": [
        "# Diving Into the Poisson Distribution and Poisson Process\r\n",
        "\r\n",
        "* Tutorial: https://news.towardsai.net/pd\r\n",
        "* Github: https://github.com/towardsai/tutorials/tree/master/poisson-distribution-process\r\n",
        "\r\n",
        "A TV Assembly unit performs a defects analysis task to understand the number of defects that could happen for a given defective TV. Using past quality and audit data is noted that 12 defects are marked on an average for a defective TV, calculate below:\r\n",
        "\r\n",
        "* The probability that a defective laptop has exactly 5 defects.\r\n",
        "* The probability that a defective laptop has less than 5 defects.\r\n",
        "\r\n"
      ]
    },
    {
      "cell_type": "code",
      "metadata": {
        "id": "lvkkNheCDnH1"
      },
      "source": [
        "import numpy as np\r\n",
        "import scipy.stats as stats\r\n",
        "import matplotlib.pyplot as plt"
      ],
      "execution_count": null,
      "outputs": []
    },
    {
      "cell_type": "code",
      "metadata": {
        "colab": {
          "base_uri": "https://localhost:8080/"
        },
        "id": "dtnc1L2HD7TL",
        "outputId": "0ed2e42e-a17c-4080-a4d4-be3596901a18"
      },
      "source": [
        "n = np.arange(0,30)\r\n",
        "n"
      ],
      "execution_count": null,
      "outputs": [
        {
          "output_type": "execute_result",
          "data": {
            "text/plain": [
              "array([ 0,  1,  2,  3,  4,  5,  6,  7,  8,  9, 10, 11, 12, 13, 14, 15, 16,\n",
              "       17, 18, 19, 20, 21, 22, 23, 24, 25, 26, 27, 28, 29])"
            ]
          },
          "metadata": {
            "tags": []
          },
          "execution_count": 2
        }
      ]
    },
    {
      "cell_type": "code",
      "metadata": {
        "id": "XqcO28-iEA-N"
      },
      "source": [
        "rate = 12\r\n",
        "poisson = stats.poisson.pmf(n,rate)"
      ],
      "execution_count": null,
      "outputs": []
    },
    {
      "cell_type": "code",
      "metadata": {
        "colab": {
          "base_uri": "https://localhost:8080/"
        },
        "id": "HiQUltIvEGa3",
        "outputId": "ebb9e923-e158-41c9-f512-ae9f844321e7"
      },
      "source": [
        "poisson"
      ],
      "execution_count": null,
      "outputs": [
        {
          "output_type": "execute_result",
          "data": {
            "text/plain": [
              "array([6.14421235e-06, 7.37305482e-05, 4.42383289e-04, 1.76953316e-03,\n",
              "       5.30859947e-03, 1.27406387e-02, 2.54812775e-02, 4.36821900e-02,\n",
              "       6.55232849e-02, 8.73643799e-02, 1.04837256e-01, 1.14367916e-01,\n",
              "       1.14367916e-01, 1.05570384e-01, 9.04889002e-02, 7.23911201e-02,\n",
              "       5.42933401e-02, 3.83247107e-02, 2.55498071e-02, 1.61367203e-02,\n",
              "       9.68203217e-03, 5.53258981e-03, 3.01777626e-03, 1.57449196e-03,\n",
              "       7.87245981e-04, 3.77878071e-04, 1.74405263e-04, 7.75134504e-05,\n",
              "       3.32200502e-05, 1.37462277e-05])"
            ]
          },
          "metadata": {
            "tags": []
          },
          "execution_count": 4
        }
      ]
    },
    {
      "cell_type": "code",
      "metadata": {
        "colab": {
          "base_uri": "https://localhost:8080/"
        },
        "id": "mmF00PoSEKap",
        "outputId": "46e16547-91af-43ed-f1e5-44f6dc3a4541"
      },
      "source": [
        "poisson[5]"
      ],
      "execution_count": null,
      "outputs": [
        {
          "output_type": "execute_result",
          "data": {
            "text/plain": [
              "0.012740638735861376"
            ]
          },
          "metadata": {
            "tags": []
          },
          "execution_count": 5
        }
      ]
    },
    {
      "cell_type": "code",
      "metadata": {
        "colab": {
          "base_uri": "https://localhost:8080/"
        },
        "id": "UJTvIzv-EN6q",
        "outputId": "cbcd67cd-14ff-48ac-fd1d-920d74950a72"
      },
      "source": [
        "poisson[0] + poisson[1] + poisson[2] + poisson[3] + poisson[4]"
      ],
      "execution_count": null,
      "outputs": [
        {
          "output_type": "execute_result",
          "data": {
            "text/plain": [
              "0.007600390681067"
            ]
          },
          "metadata": {
            "tags": []
          },
          "execution_count": 6
        }
      ]
    },
    {
      "cell_type": "code",
      "metadata": {
        "colab": {
          "base_uri": "https://localhost:8080/",
          "height": 269
        },
        "id": "iJv5zZrbEQcZ",
        "outputId": "af6de39f-641e-49f5-c043-89938405e9da"
      },
      "source": [
        "plt.plot(n,poisson, 'o-')\r\n",
        "plt.show()"
      ],
      "execution_count": null,
      "outputs": [
        {
          "output_type": "display_data",
          "data": {
            "image/png": "[encoded data removed]",
            "text/plain": [
              "<Figure size 432x288 with 1 Axes>"
            ]
          },
          "metadata": {
            "tags": [],
            "needs_background": "light"
          }
        }
      ]
    }
  ]
}