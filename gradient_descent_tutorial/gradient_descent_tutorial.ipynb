{
  "nbformat": 4,
  "nbformat_minor": 0,
  "metadata": {
    "colab": {
      "name": "gradient-descent-tutorial.ipynb",
      "provenance": [],
      "include_colab_link": true
    },
    "kernelspec": {
      "name": "python3",
      "display_name": "Python 3"
    }
  },
  "cells": [
    {
      "cell_type": "markdown",
      "metadata": {
        "id": "view-in-github",
        "colab_type": "text"
      },
      "source": [
        "<a href=\"https://colab.research.google.com/github/towardsai/tutorials/blob/master/gradient_descent_tutorial/gradient_descent_tutorial.ipynb\" target=\"_parent\"><img src=\"https://colab.research.google.com/assets/colab-badge.svg\" alt=\"Open In Colab\"/></a>"
      ]
    },
    {
      "cell_type": "markdown",
      "metadata": {
        "id": "g0FieADaJ0lT"
      },
      "source": [
        "# Gradient Descent Algorithm Implementation\r\n",
        "\r\n",
        "* Tutorial: https://towardsai.net/p/data-science/gradient-descent-algorithm-for-machine-learning-python-tutorial-ml-9ded189ec556\r\n",
        "* Github: https://github.com/towardsai/tutorials/tree/master/gradient_descent_tutorial"
      ]
    },
    {
      "cell_type": "code",
      "metadata": {
        "colab": {
          "base_uri": "https://localhost:8080/"
        },
        "id": "QhOHADWFL1pS",
        "outputId": "8e33c29a-3a0b-48c1-f97a-39b685b1395a"
      },
      "source": [
        "#Download the dataset\r\n",
        "!wget https://raw.githubusercontent.com/towardsai/tutorials/master/gradient_descent_tutorial/data.txt"
      ],
      "execution_count": null,
      "outputs": [
        {
          "output_type": "stream",
          "text": [
            "--2020-12-21 02:45:22--  https://raw.githubusercontent.com/towardsai/tutorials/master/gradient_descent_tutorial/data.txt\n",
            "Resolving raw.githubusercontent.com (raw.githubusercontent.com)... 151.101.0.133, 151.101.64.133, 151.101.128.133, ...\n",
            "Connecting to raw.githubusercontent.com (raw.githubusercontent.com)|151.101.0.133|:443... connected.\n",
            "HTTP request sent, awaiting response... 200 OK\n",
            "Length: 1359 (1.3K) [text/plain]\n",
            "Saving to: ‘data.txt’\n",
            "\n",
            "data.txt            100%[===================>]   1.33K  --.-KB/s    in 0s      \n",
            "\n",
            "2020-12-21 02:45:22 (62.5 MB/s) - ‘data.txt’ saved [1359/1359]\n",
            "\n"
          ],
          "name": "stdout"
        }
      ]
    },
    {
      "cell_type": "code",
      "metadata": {
        "id": "Y4Oa5v2d-0Mi"
      },
      "source": [
        "import pandas as pd\r\n",
        "import numpy as np\r\n",
        "import matplotlib.pyplot as plt  \r\n",
        "%matplotlib inline"
      ],
      "execution_count": null,
      "outputs": []
    },
    {
      "cell_type": "code",
      "metadata": {
        "colab": {
          "base_uri": "https://localhost:8080/",
          "height": 202
        },
        "id": "ARofjam3_mfx",
        "outputId": "04a366df-2586-47df-bcae-4998a6bf1581"
      },
      "source": [
        "column_names = ['Population', 'Profit']\r\n",
        "df = pd.read_csv('data.txt', header=None, names=column_names)  \r\n",
        "df.head()"
      ],
      "execution_count": null,
      "outputs": [
        {
          "output_type": "execute_result",
          "data": {
            "text/html": [
              "<div>\n",
              "<style scoped>\n",
              "    .dataframe tbody tr th:only-of-type {\n",
              "        vertical-align: middle;\n",
              "    }\n",
              "\n",
              "    .dataframe tbody tr th {\n",
              "        vertical-align: top;\n",
              "    }\n",
              "\n",
              "    .dataframe thead th {\n",
              "        text-align: right;\n",
              "    }\n",
              "</style>\n",
              "<table border=\"1\" class=\"dataframe\">\n",
              "  <thead>\n",
              "    <tr style=\"text-align: right;\">\n",
              "      <th></th>\n",
              "      <th>Population</th>\n",
              "      <th>Profit</th>\n",
              "    </tr>\n",
              "  </thead>\n",
              "  <tbody>\n",
              "    <tr>\n",
              "      <th>0</th>\n",
              "      <td>6.1101</td>\n",
              "      <td>17.5920</td>\n",
              "    </tr>\n",
              "    <tr>\n",
              "      <th>1</th>\n",
              "      <td>5.5277</td>\n",
              "      <td>9.1302</td>\n",
              "    </tr>\n",
              "    <tr>\n",
              "      <th>2</th>\n",
              "      <td>8.5186</td>\n",
              "      <td>13.6620</td>\n",
              "    </tr>\n",
              "    <tr>\n",
              "      <th>3</th>\n",
              "      <td>7.0032</td>\n",
              "      <td>11.8540</td>\n",
              "    </tr>\n",
              "    <tr>\n",
              "      <th>4</th>\n",
              "      <td>5.8598</td>\n",
              "      <td>6.8233</td>\n",
              "    </tr>\n",
              "  </tbody>\n",
              "</table>\n",
              "</div>"
            ],
            "text/plain": [
              "   Population   Profit\n",
              "0      6.1101  17.5920\n",
              "1      5.5277   9.1302\n",
              "2      8.5186  13.6620\n",
              "3      7.0032  11.8540\n",
              "4      5.8598   6.8233"
            ]
          },
          "metadata": {
            "tags": []
          },
          "execution_count": 5
        }
      ]
    },
    {
      "cell_type": "code",
      "metadata": {
        "id": "dT219HO8_xQJ"
      },
      "source": [
        "df.insert(0, 'Theta0', 1)\r\n",
        "cols = df.shape[1]\r\n",
        "X = df.iloc[:,0:cols-1]  \r\n",
        "Y = df.iloc[:,cols-1:cols]\r\n",
        "    \r\n",
        "theta = np.matrix(np.array([0]*X.shape[1]))  \r\n",
        "X = np.matrix(X.values)  \r\n",
        "Y = np.matrix(Y.values)"
      ],
      "execution_count": null,
      "outputs": []
    },
    {
      "cell_type": "code",
      "metadata": {
        "id": "2nTTovCVAK89"
      },
      "source": [
        "def calculate_RSS(X, y, theta):  \r\n",
        "    inner = np.power(((X * theta.T) - y), 2)\r\n",
        "    return np.sum(inner) / (2 * len(X))"
      ],
      "execution_count": null,
      "outputs": []
    },
    {
      "cell_type": "code",
      "metadata": {
        "id": "K1qp_QiFAQcM"
      },
      "source": [
        "def gradientDescent(X, Y, theta, alpha, iters):  \r\n",
        "    t = np.matrix(np.zeros(theta.shape))\r\n",
        "    parameters = int(theta.ravel().shape[1])\r\n",
        "    cost = np.zeros(iters)\r\n",
        "    \r\n",
        "    for i in range(iters):\r\n",
        "        error = (X * theta.T) - Y\r\n",
        "\r\n",
        "        for j in range(parameters):\r\n",
        "            term = np.multiply(error, X[:,j])\r\n",
        "            t[0,j] = theta[0,j] - ((alpha / len(X)) * np.sum(term))\r\n",
        "\r\n",
        "        theta = t\r\n",
        "        cost[i] = calculate_RSS(X, Y, theta)\r\n",
        "\r\n",
        "    return theta, cost"
      ],
      "execution_count": null,
      "outputs": []
    },
    {
      "cell_type": "code",
      "metadata": {
        "colab": {
          "base_uri": "https://localhost:8080/",
          "height": 515
        },
        "id": "FHs7bQRVAe6I",
        "outputId": "d1fb8250-87bb-4822-993c-8e19f66e67d6"
      },
      "source": [
        "df.plot(kind='scatter', x='Population', y='Profit', figsize=(12,8))"
      ],
      "execution_count": null,
      "outputs": [
        {
          "output_type": "execute_result",
          "data": {
            "text/plain": [
              "<matplotlib.axes._subplots.AxesSubplot at 0x7f506e4e6160>"
            ]
          },
          "metadata": {
            "tags": []
          },
          "execution_count": 9
        },
        {
          "output_type": "display_data",
          "data": {
            "image/png": "[encoded data removed]",
            "text/plain": [
              "<Figure size 864x576 with 1 Axes>"
            ]
          },
          "metadata": {
            "tags": [],
            "needs_background": "light"
          }
        }
      ]
    },
    {
      "cell_type": "markdown",
      "metadata": {
        "id": "fWddMVZcJ900"
      },
      "source": [
        "**Error before applying Gradient Descent**"
      ]
    },
    {
      "cell_type": "code",
      "metadata": {
        "colab": {
          "base_uri": "https://localhost:8080/"
        },
        "id": "Y4hCXYXhAu7g",
        "outputId": "94dae253-71b7-4bc3-93f5-a56ca61bcf61"
      },
      "source": [
        "error = calculate_RSS(X, Y, theta)\r\n",
        "error"
      ],
      "execution_count": null,
      "outputs": [
        {
          "output_type": "execute_result",
          "data": {
            "text/plain": [
              "32.072733877455676"
            ]
          },
          "metadata": {
            "tags": []
          },
          "execution_count": 10
        }
      ]
    },
    {
      "cell_type": "markdown",
      "metadata": {
        "id": "515QFSSLKF3q"
      },
      "source": [
        "**Apply Gradient Descent**"
      ]
    },
    {
      "cell_type": "code",
      "metadata": {
        "id": "DFb0u2MyA9iF",
        "colab": {
          "base_uri": "https://localhost:8080/"
        },
        "outputId": "573417e0-e38f-404f-cf89-900eb9a5f113"
      },
      "source": [
        "g, cost = gradientDescent(X, Y, theta, 0.01, 1000)  \r\n",
        "g"
      ],
      "execution_count": null,
      "outputs": [
        {
          "output_type": "execute_result",
          "data": {
            "text/plain": [
              "matrix([[-3.24140214,  1.1272942 ]])"
            ]
          },
          "metadata": {
            "tags": []
          },
          "execution_count": 11
        }
      ]
    },
    {
      "cell_type": "markdown",
      "metadata": {
        "id": "8T7lbxg-KJrq"
      },
      "source": [
        "**Error after Applying Gradient Descent**"
      ]
    },
    {
      "cell_type": "code",
      "metadata": {
        "colab": {
          "base_uri": "https://localhost:8080/"
        },
        "id": "K7hZq_8DDhSC",
        "outputId": "f3bce426-81f9-4c7d-e476-d8372523e0de"
      },
      "source": [
        "error = calculate_RSS(X, Y, g)\r\n",
        "error"
      ],
      "execution_count": null,
      "outputs": [
        {
          "output_type": "execute_result",
          "data": {
            "text/plain": [
              "4.515955503078912"
            ]
          },
          "metadata": {
            "tags": []
          },
          "execution_count": 12
        }
      ]
    },
    {
      "cell_type": "code",
      "metadata": {
        "colab": {
          "base_uri": "https://localhost:8080/",
          "height": 531
        },
        "id": "U_CwT4rnDvVN",
        "outputId": "807a3181-5e77-4c3d-adb9-617b43255b7b"
      },
      "source": [
        "x = np.linspace(df.Population.min(), df.Population.max(), 100)  \r\n",
        "f = g[0, 0] + (g[0, 1] * x)\r\n",
        "fig, ax = plt.subplots(figsize=(12,8))  \r\n",
        "ax.plot(x, f, 'r', label='Prediction')  \r\n",
        "ax.scatter(df.Population, df.Profit, label='Traning Data')  \r\n",
        "ax.legend(loc=2)  \r\n",
        "ax.set_xlabel('Population')  \r\n",
        "ax.set_ylabel('Profit')  \r\n",
        "ax.set_title('Predicted Profit vs. Population Size')"
      ],
      "execution_count": null,
      "outputs": [
        {
          "output_type": "execute_result",
          "data": {
            "text/plain": [
              "Text(0.5, 1.0, 'Predicted Profit vs. Population Size')"
            ]
          },
          "metadata": {
            "tags": []
          },
          "execution_count": 13
        },
        {
          "output_type": "display_data",
          "data": {
            "image/png": "[encoded data removed]",
            "text/plain": [
              "<Figure size 864x576 with 1 Axes>"
            ]
          },
          "metadata": {
            "tags": [],
            "needs_background": "light"
          }
        }
      ]
    }
  ]
}